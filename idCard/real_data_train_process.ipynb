{
 "cells": [
  {
   "cell_type": "code",
   "execution_count": 1,
   "metadata": {},
   "outputs": [],
   "source": [
    "import os\n",
    "import os.path as osp\n",
    "import shutil\n",
    "from glob import glob\n",
    "from tqdm import tqdm"
   ]
  },
  {
   "cell_type": "markdown",
   "metadata": {},
   "source": [
    "### 在使用真实数据去训练时，会出现各种数据问题，需要提前进行处理"
   ]
  },
  {
   "cell_type": "code",
   "execution_count": 9,
   "metadata": {},
   "outputs": [],
   "source": [
    "# 真实数据字段内容中，有字符表中不存在的字符(后称为：生僻字)\n",
    "# 将真实数据中带生僻字的字段过滤掉(收集到一定量时，再进行进一步处理)\n",
    "\n",
    "root = '/mnt/data/rz/data/idCard/clear/0218_0226/'\n",
    "real_data_label_path = osp.join(root, 'cutted/baiduLabel.txt')\n",
    "new_real_data_label_path = osp.join(root, 'cutted/rec_ppocr_key_label.txt')\n",
    "real_data_img_root = osp.join(root, 'cutted')\n",
    "char_keys_path = './data/ppocr_keys_v1.txt'\n",
    "rare_word_store_root = osp.join(root, 'rare')\n",
    "rare_word_img_root = osp.join(rare_word_store_root, 'images')\n",
    "rare_word_txt_path = osp.join(rare_word_store_root, 'rare_ppocr_key_label.txt')\n",
    "\n",
    "def make_dirs(path):\n",
    "    if not osp.exists(path):\n",
    "        os.makedirs(path)\n",
    "\n",
    "make_dirs(rare_word_img_root)"
   ]
  },
  {
   "cell_type": "code",
   "execution_count": 10,
   "metadata": {},
   "outputs": [],
   "source": [
    "with open(char_keys_path) as f:\n",
    "    char_keys = f.read().strip().split('\\n')"
   ]
  },
  {
   "cell_type": "code",
   "execution_count": 11,
   "metadata": {},
   "outputs": [],
   "source": [
    "rare_word_lines = []\n",
    "new_real_data_label_lines = []\n",
    "with open(real_data_label_path) as f:\n",
    "    for line in f:\n",
    "        items = line.strip().split('\\t')\n",
    "        if len(items) == 2:\n",
    "            suffix, ct = line.strip().split('\\t')\n",
    "        else:\n",
    "            shutil.copy(imgp, rare_word_img_root)\n",
    "            continue\n",
    "        imgp = osp.join(real_data_img_root, suffix)\n",
    "        real_item_chars = list(set(ct))\n",
    "        rare_char_num = sum([0 if ch in char_keys else 1 for ch in real_item_chars])\n",
    "        if rare_char_num != 0:\n",
    "            # try:\n",
    "            shutil.copy(imgp, rare_word_img_root)\n",
    "            # except:\n",
    "            # rare_word_lines.append(line.strip())\n",
    "                # continue\n",
    "            rare_word_lines.append(line.strip())\n",
    "        else:\n",
    "            new_real_data_label_lines.append(line.strip())\n",
    "    if len(rare_word_lines) > 0:\n",
    "        with open(rare_word_txt_path, 'w') as f:\n",
    "            f.write('\\n'.join(rare_word_lines))\n",
    "    if len(new_real_data_label_lines) > 0:\n",
    "        with open(new_real_data_label_path, 'w') as f:\n",
    "            f.write('\\n'.join(new_real_data_label_lines))"
   ]
  }
 ],
 "metadata": {
  "interpreter": {
   "hash": "5615808180270053ccd30061d3e40a8345cd894d5c8de5784602ebb68affcbb9"
  },
  "kernelspec": {
   "display_name": "Python 3.8.5 ('base')",
   "language": "python",
   "name": "python3"
  },
  "language_info": {
   "codemirror_mode": {
    "name": "ipython",
    "version": 3
   },
   "file_extension": ".py",
   "mimetype": "text/x-python",
   "name": "python",
   "nbconvert_exporter": "python",
   "pygments_lexer": "ipython3",
   "version": "3.8.5"
  },
  "orig_nbformat": 4
 },
 "nbformat": 4,
 "nbformat_minor": 2
}
