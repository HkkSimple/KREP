{
 "cells": [
  {
   "cell_type": "markdown",
   "metadata": {},
   "source": [
    "## 身份证识别模型试验\n",
    "\n",
    "### 数据\n",
    "\n",
    "#### 字符集\n",
    "- 取ppocr中的字符集，去掉身份证中不可能出现的字符\n",
    "#### 生成\n",
    "\n",
    "- 地址 \n",
    "    - 实际发布地址信息与身份证空白模板图，用文字生成器，生成识别模型数据\n",
    "    - [x] 选中复选框\n",
    "- 姓名\n",
    "    - 使用Faker包，随机生成名字语料信息，再用文字识别数据生成器，生成识别数据\n",
    "- 民族\n",
    "    - 使用56个民族作为语料库，再用生成器生成数据\n",
    "- 性别\n",
    "    - 男、女用生成器生成\n",
    "- 生日\n",
    "    - 用Faker包，生成随机得生日语料(XX年XX月XX日)，再用生成器生成数据\n",
    "- 身份证号\n",
    "    - 用Faker包，生成随机的身份证号语料，再用生成器生成数据\n",
    "- 发证机关\n",
    "    - 用实际发布的发证机关语料，再用生成器随机生成数据\n",
    "- 有效日期\n",
    "    - 用Faker包，生成时间格式，中间用\".\"隔开，时间串间用\"-\"隔开，生成语料后，再用生成器生成数据\n",
    "- 字符随机生成\n",
    "    - 统计已生成的数据中所有字符的出现次数，对低于某值的字符，取出后组成一个字符集合，利用这个字符集合，通过生成器进行无语料的随机字符生成"
   ]
  },
  {
   "cell_type": "code",
   "execution_count": 2,
   "metadata": {},
   "outputs": [],
   "source": [
    "import json\n",
    "import os.path as osp\n",
    "import os\n",
    "from faker import Faker"
   ]
  },
  {
   "cell_type": "code",
   "execution_count": 5,
   "metadata": {},
   "outputs": [],
   "source": [
    "# 发证机关\n",
    "unit_path = 'data/unit.json'\n",
    "unit_store_path = 'data/unit.txt'\n",
    "\n",
    "with open(unit_path) as f:\n",
    "    content = json.loads(f.read())\n",
    "    unit = list(content.values()) #发证机关语料库\n",
    "with open(unit_store_path, 'w') as f:\n",
    "    f.write('\\n'.join(unit))"
   ]
  },
  {
   "cell_type": "code",
   "execution_count": 84,
   "metadata": {},
   "outputs": [],
   "source": [
    "# 地址\n",
    "address_path = 'data/repitle_address_extract.json'\n",
    "address_store_path = 'data/address.txt'\n",
    "nodes_names = []\n",
    "\n",
    "def find_chinese(file):\n",
    "    pattern = re.compile(r'[^\\u4e00-\\u9fa5]')\n",
    "    chinese = re.sub(pattern, '', file)\n",
    "    return chinese\n",
    "\n",
    "def collect_address(data):\n",
    "    if type(data) == list:\n",
    "        nodes_names.extend([find_chinese(d) for d in data if len(find_chinese(d)) >0])\n",
    "    if type(data) == dict:\n",
    "        for key, value in data.items():\n",
    "            if len(key) > 0:\n",
    "                key = find_chinese(key)\n",
    "                if len(key) > 0:\n",
    "                    nodes_names.append(key)\n",
    "            collect_address(value)\n",
    "\n",
    "with open(address_path, 'r', encoding='utf-8') as f:\n",
    "    content = json.load(f)\n",
    "    collect_address(content)\n",
    "nodes_names = list(set(nodes_names))\n",
    "nodes_names = map(str, nodes_names)\n",
    "with open(address_store_path, 'w') as f:\n",
    "    f.write('\\n'.join(nodes_names))"
   ]
  },
  {
   "cell_type": "code",
   "execution_count": 48,
   "metadata": {},
   "outputs": [],
   "source": [
    "# 姓名\n",
    "from faker import Faker\n",
    "name_store_path = 'data/name.txt'\n",
    "\n",
    "fake = Faker(locale='zh_CN')\n",
    "name = fake.name()\n",
    "with open(name_store_path, 'a+') as f:\n",
    "    for _ in range(1000):\n",
    "        names = [fake.name() for _ in range(500)]\n",
    "        f.write('\\n'.join(names))"
   ]
  },
  {
   "cell_type": "code",
   "execution_count": 52,
   "metadata": {},
   "outputs": [],
   "source": [
    "# 民族\n",
    "nationality = \"汉族 彝族 侗族 蒙古族 回族 藏族 维吾尔族 苗族 壮族 朝鲜族 满族 瑶族 白族 土家族 哈尼族 哈萨克族 黎族 \" \\\n",
    "              \"傈僳族 佤族 畲族 高山族 拉祜族 水族 东乡族 纳西族 \" \\\n",
    "              \"景颇族 柯尔克孜族 土族 达斡尔族 羌族 撒拉族 毛难族 仫佬族 \" \\\n",
    "              \"仡佬族 锡伯族 阿昌族 普米族 塔吉克族 怒族 乌孜别克族 \" \\\n",
    "              \"俄罗斯族 德昂族 保安族 裕固族 崩龙族 独龙族 鄂伦春族 赫哲族 \" \\\n",
    "              \"门巴族 珞巴族 基诺族 鄂温克族 傣族 京族 塔塔尔族 布朗族 布依族\"\n",
    "with open('data/nationality.txt', 'w') as f:\n",
    "    f.write('\\n'.join(n for n in nationality.split(' ')))"
   ]
  },
  {
   "cell_type": "code",
   "execution_count": 60,
   "metadata": {},
   "outputs": [],
   "source": [
    "# 有效日期\n",
    "from faker import Faker\n",
    "name_store_path = 'data/validity.txt'\n",
    "fake = Faker(local='zh_CN')\n",
    "# date = fake.date_object()\n",
    "with open(name_store_path, 'w') as f:\n",
    "    birth = [str(fake.date_object()) for _ in range(20000)]\n",
    "    birth = ['.'.join(d.split('-')) for d in birth]\n",
    "    f.write('\\n'.join(birth))"
   ]
  },
  {
   "cell_type": "code",
   "execution_count": 61,
   "metadata": {},
   "outputs": [],
   "source": [
    "# 生日\n",
    "from faker import Faker\n",
    "name_store_path = 'data/birth.txt'\n",
    "fake = Faker(local='zh_CN')\n",
    "\n",
    "with open(name_store_path, 'w') as f:\n",
    "    birth = [str(fake.date_object()) for _ in range(20000)]\n",
    "    birth = [d.split('-')[0] + '年' + d.split('-')[1] + '月' + d.split('-')[2] + '日'\n",
    "             for d in birth]\n",
    "    f.write('\\n'.join(birth))"
   ]
  },
  {
   "cell_type": "code",
   "execution_count": 77,
   "metadata": {},
   "outputs": [],
   "source": [
    "# 身份证号\n",
    "from faker import Faker\n",
    "number_store_path = 'data/number.txt'\n",
    "fake = Faker(local='zh_CN')\n",
    "gen_num = lambda: ''.join(map(str, [fake.random_digit() for _ in range(18)]))\n",
    "\n",
    "with open(number_store_path, 'w') as f:\n",
    "    number = [gen_num() for _ in range(20000)]\n",
    "    number.extend([gen_num()[:17] + 'X' for _ in range(2000)])\n",
    "    f.write('\\n'.join(number))"
   ]
  },
  {
   "cell_type": "code",
   "execution_count": 80,
   "metadata": {},
   "outputs": [],
   "source": [
    "# 字符集\n",
    "import re\n",
    "\n",
    "def find_chinese(file):\n",
    "    pattern = re.compile(r'[^\\u4e00-\\u9fa5]')\n",
    "    chinese = re.sub(pattern, '', file)\n",
    "    return chinese\n",
    "\n",
    "with open('data/ppocr_keys_v1.txt') as f:\n",
    "    chars = f.read().split('\\n')\n",
    "    chars = ''.join(chars)\n",
    "chars_ch = find_chinese(chars)\n",
    "chars_idcard = chars_ch + '0123456789' + 'ABCDEFGHIJKLMNOPQRSTUVWXYZ' + '.-'\n",
    "with open('data/idcard_keys.txt', 'w') as f:\n",
    "    f.write('\\n'.join(chars_idcard))\n"
   ]
  },
  {
   "cell_type": "code",
   "execution_count": 13,
   "metadata": {},
   "outputs": [],
   "source": [
    "# 统计生成的数据字符，与字符集进行对比，当某字符在生成数据中出现的次数小于某值时，再对这些字符进行随机生成\n",
    "\n",
    "from glob import glob\n",
    "import os.path as osp\n",
    "import os\n",
    "\n",
    "root = '/mnt/data/rz/data/idCard/rec/gen/20220124'\n",
    "char_key_path = '/mnt/data/rz/programe/KREP/idCard/data/idcard_keys_new.txt'\n",
    "\n",
    "with open(char_key_path) as f:\n",
    "    chars = ''.join(f.read().strip().split('\\n'))\n",
    "\n",
    "img_names = os.listdir(root)\n",
    "char_num = dict.fromkeys(chars, 0)\n",
    "\n",
    "except_char = []\n",
    "for name in img_names:\n",
    "    ct = name.split('_')[0]\n",
    "    for ch in ct:\n",
    "        num = char_num.get(ch, None)\n",
    "        if num is None:\n",
    "            except_char.append(ch)\n",
    "        else:\n",
    "            char_num[ch] = num + 1\n",
    "\n",
    "# except_char = list(set(except_char))\n",
    "# new_chars = chars + ''.join(except_char)\n",
    "# new_chars = ''.join(list(set(new_chars)))\n",
    "\n",
    "# with open('data/idcard_keys_new.txt', 'w') as f:\n",
    "#     f.write('\\n'.join(new_chars))"
   ]
  },
  {
   "cell_type": "code",
   "execution_count": 17,
   "metadata": {},
   "outputs": [],
   "source": [
    "import numpy as np\n",
    "\n",
    "# 用非常用字符随机组合后生成语料文件\n",
    "litter_chars = []\n",
    "for k, v in char_num.items():\n",
    "    if v < 20:\n",
    "        litter_chars.append(k)\n",
    "text_sources = [''.join(np.random.choice(litter_chars, 5)) \n",
    "                for _ in range(10)]\n",
    "with open('data/idcard_litter_char.txt', 'a') as f:\n",
    "    for _ in range(50000):\n",
    "        sr = ''.join(np.random.choice(litter_chars, 5)) + '\\n'\n",
    "        f.write(sr)\n",
    "    "
   ]
  },
  {
   "cell_type": "code",
   "execution_count": 33,
   "metadata": {},
   "outputs": [],
   "source": [
    "# 对生成的数据进行label文件生成\n",
    "from glob import glob\n",
    "import os.path as osp\n",
    "import os\n",
    "\n",
    "root = '/mnt/data/rz/data/idCard/rec/exp/'\n",
    "suffix = 'gen_idcard_number/'\n",
    "label_store_path = '/mnt/data/rz/data/idCard/rec/exp/gen_train_rec_gt_number_label.txt' \n",
    "img_names = os.listdir(osp.join(root, suffix))\n",
    "\n",
    "lines = []\n",
    "for imgn in img_names:\n",
    "    ct = imgn.split('_')[0]\n",
    "    filen = osp.join(suffix, imgn) + '\\t' + ct\n",
    "    lines.append(filen)\n",
    "\n",
    "with open(label_store_path, 'w') as f:\n",
    "    f.write('\\n'.join(lines))"
   ]
  }
 ],
 "metadata": {
  "interpreter": {
   "hash": "5615808180270053ccd30061d3e40a8345cd894d5c8de5784602ebb68affcbb9"
  },
  "kernelspec": {
   "display_name": "Python 3.8.5 64-bit ('base': conda)",
   "language": "python",
   "name": "python3"
  },
  "language_info": {
   "codemirror_mode": {
    "name": "ipython",
    "version": 3
   },
   "file_extension": ".py",
   "mimetype": "text/x-python",
   "name": "python",
   "nbconvert_exporter": "python",
   "pygments_lexer": "ipython3",
   "version": "3.8.5"
  },
  "orig_nbformat": 4
 },
 "nbformat": 4,
 "nbformat_minor": 2
}
