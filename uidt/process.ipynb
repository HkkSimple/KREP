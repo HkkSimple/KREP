{
 "cells": [
  {
   "cell_type": "code",
   "execution_count": 1,
   "metadata": {},
   "outputs": [],
   "source": [
    "import os\n",
    "import os.path as osp\n",
    "import numpy as np\n",
    "from glob import glob\n",
    "from tqdm import tqdm\n",
    "from sklearn.model_selection import train_test_split\n",
    "import shutil"
   ]
  },
  {
   "cell_type": "code",
   "execution_count": 6,
   "metadata": {},
   "outputs": [
    {
     "name": "stderr",
     "output_type": "stream",
     "text": [
      "100%|██████████| 66261/66261 [00:00<00:00, 1097010.28it/s]\n"
     ]
    }
   ],
   "source": [
    "txt_paths = glob(\n",
    "\t'/mnt/data/rz/data/UIDetect/combined/exp/yolov5_format/*.txt')\n",
    "categorys = []\n",
    "names = []\n",
    "for txtp in tqdm(txt_paths):\n",
    "\tname = osp.basename(txtp)\n",
    "\tnames.append(name)\n",
    "\t# with open(txtp) as f:\n",
    "\t# \tfor line in f:\n",
    "\t# \t\tcls = line.strip().split('\\t')\n",
    "\t# \t\tcategorys.append(cls)\n"
   ]
  },
  {
   "cell_type": "code",
   "execution_count": 7,
   "metadata": {},
   "outputs": [],
   "source": [
    "train_names, val_names = train_test_split(names, test_size=0.1, random_state=47)"
   ]
  },
  {
   "cell_type": "code",
   "execution_count": 8,
   "metadata": {},
   "outputs": [
    {
     "name": "stderr",
     "output_type": "stream",
     "text": [
      "100%|██████████| 59634/59634 [03:26<00:00, 288.32it/s]\n",
      "100%|██████████| 6627/6627 [00:42<00:00, 155.26it/s]\n"
     ]
    }
   ],
   "source": [
    "def move_file(root, org_root, name, flag='train'):\n",
    "\torg_img_path = osp.join(org_root, 'images', name+'.jpg')\n",
    "\torg_txt_path = osp.join(org_root, 'exp/yolov5_format', name+'.txt')\n",
    "\timg_path = osp.join(root, 'images/', flag, name+'.jpg')\n",
    "\ttxt_path = osp.join(root, 'labels/', flag, name+'.txt')\n",
    "\tshutil.copy(org_img_path, img_path)\n",
    "\tshutil.copy(org_txt_path, txt_path)\n",
    "\n",
    "\n",
    "root = '/mnt/data/rz/data/UIDetect/combined/exp'\n",
    "org_root = '/mnt/data/rz/data/UIDetect/combined/'\n",
    "for n in tqdm(train_names):\n",
    "\tsuffix = n.split('.')[0]\n",
    "\tmove_file(root, org_root, suffix, 'train')\n",
    "\t\n",
    "for n in tqdm(val_names):\n",
    "\tsuffix = n.split('.')[0]\n",
    "\tmove_file(root, org_root, suffix, 'val')\n"
   ]
  }
 ],
 "metadata": {
  "interpreter": {
   "hash": "5615808180270053ccd30061d3e40a8345cd894d5c8de5784602ebb68affcbb9"
  },
  "kernelspec": {
   "display_name": "Python 3.8.5 64-bit ('base': conda)",
   "language": "python",
   "name": "python3"
  },
  "language_info": {
   "codemirror_mode": {
    "name": "ipython",
    "version": 3
   },
   "file_extension": ".py",
   "mimetype": "text/x-python",
   "name": "python",
   "nbconvert_exporter": "python",
   "pygments_lexer": "ipython3",
   "version": "3.8.5"
  },
  "orig_nbformat": 4
 },
 "nbformat": 4,
 "nbformat_minor": 2
}
